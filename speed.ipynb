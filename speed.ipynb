{
  "nbformat": 4,
  "nbformat_minor": 0,
  "metadata": {
    "colab": {
      "provenance": [],
      "authorship_tag": "ABX9TyOHc6rRbKp1gXOXzFAuMzOH",
      "include_colab_link": true
    },
    "kernelspec": {
      "name": "python3",
      "display_name": "Python 3"
    },
    "language_info": {
      "name": "python"
    }
  },
  "cells": [
    {
      "cell_type": "markdown",
      "metadata": {
        "id": "view-in-github",
        "colab_type": "text"
      },
      "source": [
        "<a href=\"https://colab.research.google.com/github/raunakyadav92/speedandroutemonitorapp/blob/main/speed.ipynb\" target=\"_parent\"><img src=\"https://colab.research.google.com/assets/colab-badge.svg\" alt=\"Open In Colab\"/></a>"
      ]
    },
    {
      "cell_type": "code",
      "execution_count": null,
      "metadata": {
        "id": "mtB8eKgJcU5I"
      },
      "outputs": [],
      "source": [
        "import time\n",
        "from geopy.distance import geodesic\n",
        "\n",
        "# Sample route points with (latitude, longitude)\n",
        "route_points = [(28.6139, 77.2090), (28.7041, 77.1025), (28.5355, 77.3910)]\n",
        "\n",
        "def calculate_speed(point1, point2, time_sec):\n",
        "    distance_km = geodesic(point1, point2).km\n",
        "    speed_kmh = (distance_km / time_sec) * 3600\n",
        "    return round(speed_kmh, 2)\n",
        "\n",
        "for i in range(len(route_points) - 1):\n",
        "    speed = calculate_speed(route_points[i], route_points[i + 1], 60)  # assuming 60 sec between points\n",
        "    print(f\"Moved from {route_points[i]} to {route_points[i+1]} at Speed: {speed} km/h\")\n",
        "    if speed > 80:\n",
        "        print(\"🚨 Speed Limit Exceeded!\")\n",
        "    time.sleep(1)\n"
      ]
    }
  ]
}